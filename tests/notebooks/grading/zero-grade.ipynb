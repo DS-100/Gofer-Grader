{
 "cells": [
  {
   "cell_type": "markdown",
   "metadata": {},
   "source": [
    "# Zero Grade Notebook"
   ]
  },
  {
   "cell_type": "code",
   "execution_count": 1,
   "metadata": {},
   "outputs": [],
   "source": [
    "from gofer.ok import gofer_check"
   ]
  },
  {
   "cell_type": "markdown",
   "metadata": {},
   "source": [
    "# Question 1: Does `defined_variable` equal 100?"
   ]
  },
  {
   "cell_type": "code",
   "execution_count": 2,
   "metadata": {},
   "outputs": [],
   "source": [
    "defined_variable = 50"
   ]
  },
  {
   "cell_type": "code",
   "execution_count": null,
   "metadata": {},
   "outputs": [],
   "source": [
    "gofer_check('tests/q_1.py')"
   ]
  },
  {
   "cell_type": "markdown",
   "metadata": {},
   "source": [
    "# Question 2: Does `another_defined_variable` equal 200?"
   ]
  },
  {
   "cell_type": "code",
   "execution_count": null,
   "metadata": {},
   "outputs": [],
   "source": [
    "gofer_check('tests/q_2.py')"
   ]
  },
  {
   "cell_type": "markdown",
   "metadata": {},
   "source": [
    "# Sanity Check "
   ]
  },
  {
   "cell_type": "code",
   "execution_count": 1,
   "metadata": {},
   "outputs": [
    {
     "name": "stdout",
     "output_type": "stream",
     "text": [
      "Question 1:\n"
     ]
    },
    {
     "data": {
      "text/html": [
       "\n",
       "    \n",
       "    \n",
       "        <p>0 of 1 tests passed</p>\n",
       "        \n",
       "        \n",
       "        <p> <strong>Tests failed: </strong>\n",
       "            <ul>\n",
       "            \n",
       "                <li> \n",
       "    <p><strong style='color: red;'>tests/q_1.py</strong></p>\n",
       "\n",
       "    <p><strong>Test code:</strong><pre><div class=\"highlight\" style=\"background: #f8f8f8\"><pre style=\"line-height: 125%\"><span></span><span style=\"color: #000080; font-weight: bold\">&gt;&gt;&gt; </span>defined_variable <span style=\"color: #666666\">==</span> <span style=\"color: #666666\">100</span>\n",
       "<span style=\"color: #888888\">True</span>\n",
       "\n",
       "<span style=\"color: #888888\">You should define variable defined_variable to the value 100</span>\n",
       "</pre></div>\n",
       "</pre></p>\n",
       "\n",
       "    <p><strong>Test result:</strong><pre>Trying:\n",
       "    defined_variable == 100\n",
       "Expecting:\n",
       "    True\n",
       "**********************************************************************\n",
       "Line 2, in tests/q_1.py 1\n",
       "Failed example:\n",
       "    defined_variable == 100\n",
       "Expected:\n",
       "    True\n",
       "Got:\n",
       "    False\n",
       "</pre></p>\n",
       "     </li>\n",
       "            \n",
       "            </ul>\n",
       "        \n",
       "    \n",
       "    "
      ],
      "text/plain": [
       "<gofer.ok.OKTestsResult at 0x112a166a0>"
      ]
     },
     "metadata": {},
     "output_type": "display_data"
    },
    {
     "name": "stdout",
     "output_type": "stream",
     "text": [
      "Question 2:\n"
     ]
    },
    {
     "data": {
      "text/html": [
       "\n",
       "    \n",
       "    \n",
       "        <p>0 of 1 tests passed</p>\n",
       "        \n",
       "        \n",
       "        <p> <strong>Tests failed: </strong>\n",
       "            <ul>\n",
       "            \n",
       "                <li> \n",
       "    <p><strong style='color: red;'>tests/q_2.py</strong></p>\n",
       "\n",
       "    <p><strong>Test code:</strong><pre><div class=\"highlight\" style=\"background: #f8f8f8\"><pre style=\"line-height: 125%\"><span></span><span style=\"color: #000080; font-weight: bold\">&gt;&gt;&gt; </span><span style=\"color: #BA2121\">&#39;another_defined_variable&#39;</span> <span style=\"color: #AA22FF; font-weight: bold\">in</span> <span style=\"color: #008000\">vars</span>()\n",
       "<span style=\"color: #888888\">True</span>\n",
       "\n",
       "<span style=\"color: #888888\">Looks like you did not define the variable &#39;another_defined_variable&#39;</span>\n",
       "</pre></div>\n",
       "</pre></p>\n",
       "\n",
       "    <p><strong>Test result:</strong><pre>Trying:\n",
       "    'another_defined_variable' in vars()\n",
       "Expecting:\n",
       "    True\n",
       "**********************************************************************\n",
       "Line 2, in tests/q_2.py 0\n",
       "Failed example:\n",
       "    'another_defined_variable' in vars()\n",
       "Expected:\n",
       "    True\n",
       "Got:\n",
       "    False\n",
       "</pre></p>\n",
       "     </li>\n",
       "            \n",
       "            </ul>\n",
       "        \n",
       "    \n",
       "    "
      ],
      "text/plain": [
       "<gofer.ok.OKTestsResult at 0x112a16e80>"
      ]
     },
     "metadata": {},
     "output_type": "display_data"
    },
    {
     "data": {
      "text/plain": [
       "0.0"
      ]
     },
     "execution_count": 1,
     "metadata": {},
     "output_type": "execute_result"
    }
   ],
   "source": [
    "from gofer.ok import grade_notebook\n",
    "from glob import glob\n",
    "grade_notebook('zero-grade.ipynb', glob('tests/q*.py'))"
   ]
  },
  {
   "cell_type": "markdown",
   "metadata": {},
   "source": [
    "# Don't forget to submit!"
   ]
  }
 ],
 "metadata": {
  "kernelspec": {
   "display_name": "Python 3",
   "language": "python",
   "name": "python3"
  },
  "language_info": {
   "codemirror_mode": {
    "name": "ipython",
    "version": 3
   },
   "file_extension": ".py",
   "mimetype": "text/x-python",
   "name": "python",
   "nbconvert_exporter": "python",
   "pygments_lexer": "ipython3",
   "version": "3.6.7"
  }
 },
 "nbformat": 4,
 "nbformat_minor": 2
}
